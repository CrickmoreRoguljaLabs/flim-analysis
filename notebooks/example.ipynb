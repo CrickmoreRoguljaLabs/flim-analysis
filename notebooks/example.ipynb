{
 "cells": [
  {
   "cell_type": "code",
   "execution_count": null,
   "metadata": {},
   "outputs": [],
   "source": [
    "from crickflim.sct.napari.napari_gui import NapariWrapper\n",
    "path_to_file = \"NP5XXMCamui100uMDopa009.flim\"\n",
    "n_w = NapariWrapper(path=path_to_file)"
   ]
  },
  {
   "cell_type": "code",
   "execution_count": null,
   "metadata": {},
   "outputs": [],
   "source": [
    "# The flim data\n",
    "lifetime_data = n_w.lifetime_data\n",
    "\n",
    "# the FileReader object\n",
    "ryohei_reader = n_w.reader"
   ]
  }
 ],
 "metadata": {
  "kernelspec": {
   "display_name": "testflim",
   "language": "python",
   "name": "python3"
  },
  "language_info": {
   "codemirror_mode": {
    "name": "ipython",
    "version": 3
   },
   "file_extension": ".py",
   "mimetype": "text/x-python",
   "name": "python",
   "nbconvert_exporter": "python",
   "pygments_lexer": "ipython3",
   "version": "3.9.16"
  },
  "orig_nbformat": 4,
  "vscode": {
   "interpreter": {
    "hash": "8d21b2b0a6fb0bac871c81be408a11192a333a303dc3637223367d92add09a20"
   }
  }
 },
 "nbformat": 4,
 "nbformat_minor": 2
}
